{
 "cells": [
  {
   "cell_type": "markdown",
   "id": "efd9cc22",
   "metadata": {},
   "source": [
    "# Python Data Engineer Code Challenge\n",
    "\n",
    "[Descripción]"
   ]
  },
  {
   "cell_type": "code",
   "execution_count": 6,
   "id": "9c7fae05-ed7e-4dce-a3cf-402620f628d9",
   "metadata": {},
   "outputs": [],
   "source": [
    "import csv\n",
    "import pandas as pd\n",
    "import json\n",
    "from sqlalchemy.orm import sessionmaker\n",
    "from sqlalchemy.ext.declarative import declarative_base\n",
    "from sqlalchemy import create_engine, Column, Integer, String, Boolean, Date\n",
    "from sqlalchemy import func, text"
   ]
  },
  {
   "cell_type": "code",
   "execution_count": 6,
   "id": "2d1b4b89-da17-4bf3-80ff-0253088c087e",
   "metadata": {},
   "outputs": [
    {
     "name": "stdout",
     "output_type": "stream",
     "text": [
      "   First Name   Last Name                      Email Application Date  \\\n",
      "0  Bernadette   Langworth        leonard91@yahoo.com       2021-02-26   \n",
      "1      Camryn    Reynolds        zelda56@hotmail.com       2021-09-09   \n",
      "2       Larue      Spinka   okey_schultz41@gmail.com       2020-04-14   \n",
      "3        Arch      Spinka     elvera_kulas@yahoo.com       2020-10-01   \n",
      "4       Larue  Altenwerth  minnie.gislason@gmail.com       2020-05-20   \n",
      "\n",
      "   Country  YOE  Seniority                         Technology  \\\n",
      "0   Norway    2     Intern                      Data Engineer   \n",
      "1   Panama   10     Intern                      Data Engineer   \n",
      "2  Belarus    4  Mid-Level                     Client Success   \n",
      "3  Eritrea   25    Trainee                          QA Manual   \n",
      "4  Myanmar   13  Mid-Level  Social Media Community Management   \n",
      "\n",
      "   Code Challenge Score  Technical Interview Score  \n",
      "0                     3                          3  \n",
      "1                     2                         10  \n",
      "2                    10                          9  \n",
      "3                     7                          1  \n",
      "4                     9                          7  \n",
      "50000\n"
     ]
    }
   ],
   "source": [
    "csv_file = \"data/candidates.csv\"\n",
    "df = pd.read_csv(csv_file, sep=\";\")\n",
    "print(df[0:5])\n",
    "print(len(df))"
   ]
  },
  {
   "cell_type": "markdown",
   "id": "0b9b2d41",
   "metadata": {},
   "source": [
    "We can tell that there's not a column that tells us whether the candidate was hired or not, however, we have the right information to tell. In order to make future queries easier, we are going to create a new column named 'hired' later."
   ]
  },
  {
   "cell_type": "markdown",
   "id": "a88c8dd4",
   "metadata": {},
   "source": [
    "### Step II: Establishing a connection to the database"
   ]
  },
  {
   "cell_type": "code",
   "execution_count": 9,
   "id": "e254fc89",
   "metadata": {},
   "outputs": [
    {
     "name": "stderr",
     "output_type": "stream",
     "text": [
      "C:\\Users\\Mrìa Angelica\\AppData\\Local\\Temp\\ipykernel_8888\\1044516210.py:5: MovedIn20Warning: The ``declarative_base()`` function is now available as sqlalchemy.orm.declarative_base(). (deprecated since: 2.0) (Background on SQLAlchemy 2.0 at: https://sqlalche.me/e/b8d9)\n",
      "  base = declarative_base()\n"
     ]
    }
   ],
   "source": [
    "with open('./db_config.json', 'r') as file:\n",
    "    data = json.load(file)\n",
    "\n",
    "engine = create_engine(f'mysql+mysqlconnector://{data[\"user\"]}:{data[\"password\"]}@{data[\"host\"]}:{data[\"server\"]}/{data[\"db\"]}')\n",
    "base = declarative_base()\n"
   ]
  },
  {
   "cell_type": "markdown",
   "id": "af0d11f2",
   "metadata": {},
   "source": [
    "### Step III: Creating the table and modifying columns"
   ]
  }
 ],
 "metadata": {
  "kernelspec": {
   "display_name": "Python 3 (ipykernel)",
   "language": "python",
   "name": "python3"
  },
  "language_info": {
   "codemirror_mode": {
    "name": "ipython",
    "version": 3
   },
   "file_extension": ".py",
   "mimetype": "text/x-python",
   "name": "python",
   "nbconvert_exporter": "python",
   "pygments_lexer": "ipython3",
   "version": "3.10.11"
  }
 },
 "nbformat": 4,
 "nbformat_minor": 5
}
