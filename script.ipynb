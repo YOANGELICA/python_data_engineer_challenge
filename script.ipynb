{
 "cells": [
  {
   "cell_type": "markdown",
   "id": "efd9cc22",
   "metadata": {},
   "source": [
    "# Python Data Engineer Code Challenge\n",
    "\n",
    "[Descripción]"
   ]
  },
  {
   "cell_type": "code",
   "execution_count": 2,
   "id": "9c7fae05-ed7e-4dce-a3cf-402620f628d9",
   "metadata": {},
   "outputs": [],
   "source": [
    "import csv\n",
    "import pandas as pd\n",
    "import json\n",
    "from sqlalchemy.orm import sessionmaker\n",
    "from sqlalchemy.ext.declarative import declarative_base\n",
    "from sqlalchemy import create_engine, Column, Integer, String, Boolean, Date\n",
    "from sqlalchemy import func, text"
   ]
  },
  {
   "cell_type": "code",
   "execution_count": 7,
   "id": "2d1b4b89-da17-4bf3-80ff-0253088c087e",
   "metadata": {},
   "outputs": [
    {
     "name": "stdout",
     "output_type": "stream",
     "text": [
      "   First Name   Last Name                      Email Application Date  \\\n",
      "0  Bernadette   Langworth        leonard91@yahoo.com       2021-02-26   \n",
      "1      Camryn    Reynolds        zelda56@hotmail.com       2021-09-09   \n",
      "2       Larue      Spinka   okey_schultz41@gmail.com       2020-04-14   \n",
      "3        Arch      Spinka     elvera_kulas@yahoo.com       2020-10-01   \n",
      "4       Larue  Altenwerth  minnie.gislason@gmail.com       2020-05-20   \n",
      "\n",
      "   Country  YOE  Seniority                         Technology  \\\n",
      "0   Norway    2     Intern                      Data Engineer   \n",
      "1   Panama   10     Intern                      Data Engineer   \n",
      "2  Belarus    4  Mid-Level                     Client Success   \n",
      "3  Eritrea   25    Trainee                          QA Manual   \n",
      "4  Myanmar   13  Mid-Level  Social Media Community Management   \n",
      "\n",
      "   Code Challenge Score  Technical Interview Score  \n",
      "0                     3                          3  \n",
      "1                     2                         10  \n",
      "2                    10                          9  \n",
      "3                     7                          1  \n",
      "4                     9                          7  \n",
      "50000\n"
     ]
    }
   ],
   "source": [
    "csv_file = \"data/candidates.csv\"\n",
    "data = pd.read_csv(csv_file, sep=\";\")\n",
    "print(data[0:5])\n",
    "print(len(data))"
   ]
  },
  {
   "cell_type": "markdown",
   "id": "0b9b2d41",
   "metadata": {},
   "source": [
    "We can tell that there's not a column that tells us whether the candidate was hired or not, however, we have the right information to tell. In order to make future queries easier, we are going to create a new column named 'hired' later."
   ]
  },
  {
   "cell_type": "markdown",
   "id": "a88c8dd4",
   "metadata": {},
   "source": [
    "### Step II: Establishing a connection to the database and creating the table\n",
    "NOTE: For this step, it's necessary to have previously created a file with your database credentials. In this case, this file is called db_config.json and contains the username, password, host, port and database name."
   ]
  },
  {
   "cell_type": "code",
   "execution_count": 46,
   "id": "e254fc89",
   "metadata": {},
   "outputs": [
    {
     "name": "stderr",
     "output_type": "stream",
     "text": [
      "C:\\Users\\Mrìa Angelica\\AppData\\Local\\Temp\\ipykernel_9532\\2096287153.py:8: MovedIn20Warning: The ``declarative_base()`` function is now available as sqlalchemy.orm.declarative_base(). (deprecated since: 2.0) (Background on SQLAlchemy 2.0 at: https://sqlalche.me/e/b8d9)\n",
      "  Base = declarative_base()\n"
     ]
    }
   ],
   "source": [
    "# establecer la conexión\n",
    "with open('./db_config.json', 'r') as file:\n",
    "    data = json.load(file)\n",
    "\n",
    "engine = create_engine(f'mysql://{data[\"user\"]}:{data[\"password\"]}@{data[\"host\"]}:{data[\"server\"]}/{data[\"db\"]}')\n",
    "\n",
    "# Para que una clase pueda considerarse un modelo, debe heredar de otra clase, en este caso la clase Base\n",
    "Base = declarative_base()\n",
    "\n",
    "# Crear el modelo\n",
    "class Candidate(Base):\n",
    "    __tablename__ = \"candidates\" # atributo tablename -> indicar el nombre de la tabla\n",
    "\n",
    "    id = Column(Integer, primary_key=True, autoincrement=True)\n",
    "    first_name = Column(String(50), nullable=False)\n",
    "    last_name = Column(String(50), nullable=False)\n",
    "    email = Column(String(50), nullable=False)\n",
    "    app_date = Column(Date, nullable=False)\n",
    "    country = Column(String(60), nullable=False)\n",
    "    yoe = Column(Integer, nullable=False)\n",
    "    seniority = Column(String(20), nullable=False)\n",
    "    technology = Column(String(50), nullable=False)\n",
    "    cc_score = Column(Integer, nullable=False)\n",
    "    ti_score = Column(Integer, nullable=False)\n",
    "    hired = Column(Boolean, nullable=False)\n",
    "\n",
    "# crear la tabla\n",
    "Base.metadata.create_all(bind=engine)\n"
   ]
  },
  {
   "cell_type": "markdown",
   "id": "af0d11f2",
   "metadata": {},
   "source": [
    "### Step III: Modifying and inserting data into the table\n",
    "First, we are going to change the names of the columns in the dataframe to match the names of the columns in the table, then we are going to create the column \"hired\". \n",
    "\n",
    "NOTE: A candidate is considered HIRED when she or he has both scores greater than or equal to 7."
   ]
  },
  {
   "cell_type": "code",
   "execution_count": 47,
   "id": "5bf2f4d8",
   "metadata": {},
   "outputs": [
    {
     "name": "stdout",
     "output_type": "stream",
     "text": [
      "   first_name  last_name                     email    app_date  country  yoe  \\\n",
      "0  Bernadette  Langworth       leonard91@yahoo.com  2021-02-26   Norway    2   \n",
      "1      Camryn   Reynolds       zelda56@hotmail.com  2021-09-09   Panama   10   \n",
      "2       Larue     Spinka  okey_schultz41@gmail.com  2020-04-14  Belarus    4   \n",
      "\n",
      "   seniority      technology  cc_score  ti_score  hired  \n",
      "0     Intern   Data Engineer         3         3      0  \n",
      "1     Intern   Data Engineer         2        10      0  \n",
      "2  Mid-Level  Client Success        10         9      1  \n"
     ]
    },
    {
     "data": {
      "text/plain": [
       "50000"
      ]
     },
     "execution_count": 47,
     "metadata": {},
     "output_type": "execute_result"
    }
   ],
   "source": [
    "file = \"data/candidates.csv\"\n",
    "df = pd.read_csv(file, sep=\";\")\n",
    "\n",
    "df.columns = [\"first_name\",\"last_name\",\"email\",\"app_date\",\"country\",\"yoe\",\"seniority\",\"technology\",\"cc_score\",\"ti_score\"]\n",
    "\n",
    "df['hired'] = ((df['cc_score'] >= 7) & (df['ti_score'] >= 7)).astype(int)\n",
    "print(df[0:3])\n",
    "\n",
    "df.to_sql(con=engine,name=Candidate.__tablename__, if_exists='append', index=False)\n",
    "# params: con=engine connected to the db, name=table name to insert, if_exists=if the table exists, insert the data, index=False= remove the default index of pandas dfs."
   ]
  }
 ],
 "metadata": {
  "kernelspec": {
   "display_name": "Python 3 (ipykernel)",
   "language": "python",
   "name": "python3"
  },
  "language_info": {
   "codemirror_mode": {
    "name": "ipython",
    "version": 3
   },
   "file_extension": ".py",
   "mimetype": "text/x-python",
   "name": "python",
   "nbconvert_exporter": "python",
   "pygments_lexer": "ipython3",
   "version": "3.10.11"
  }
 },
 "nbformat": 4,
 "nbformat_minor": 5
}
